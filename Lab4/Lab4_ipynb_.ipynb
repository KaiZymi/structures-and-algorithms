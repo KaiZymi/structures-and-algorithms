{
  "cells": [
    {
      "cell_type": "markdown",
      "id": "9567e3ca",
      "metadata": {
        "id": "9567e3ca"
      },
      "source": [
        "# Лабораторная работа 4. Методы поиска.\n",
        "## Выполнил студент группы БСТ2105 Валишин М.Р."
      ]
    },
    {
      "cell_type": "markdown",
      "id": "46e6f552",
      "metadata": {
        "id": "46e6f552"
      },
      "source": [
        "Реализовать методы поиска в соответствии с заданием. Организовать генерацию начального набора случайных данных. Для всех вариантов добавить реализацию добавления, поиска и удаления элементов. Оценить время работы каждого алгоритма поиска и сравнить его со временем работы стандартной функции поиска, используемой в выбранном языке программирования."
      ]
    },
    {
      "cell_type": "markdown",
      "id": "b6fa0be0",
      "metadata": {
        "id": "b6fa0be0"
      },
      "source": [
        "### Задание 1\n",
        "### Бинарный поиск"
      ]
    },
    {
      "cell_type": "code",
      "execution_count": null,
      "id": "08623819",
      "metadata": {
        "id": "08623819"
      },
      "outputs": [],
      "source": [
        "import random\n",
        "import math\n",
        "import time\n",
        "import pandas as pd\n",
        "import matplotlib.pyplot as plt"
      ]
    },
    {
      "cell_type": "code",
      "execution_count": null,
      "id": "8edbea2b",
      "metadata": {
        "id": "8edbea2b"
      },
      "outputs": [],
      "source": [
        "def BinarySearch(ls: list, value: int) -> int:\n",
        "    middle = len(ls) // 2\n",
        "    left = 0\n",
        "    right = len(ls) - 1\n",
        "    while left < right and middle != value:\n",
        "        if value < ls[middle]:\n",
        "            right = middle - 1\n",
        "        else:\n",
        "            left = middle + 1\n",
        "        middle = (left + right) // 2\n",
        "    return None if left > right else middle"
      ]
    },
    {
      "cell_type": "code",
      "execution_count": null,
      "id": "e863334c",
      "metadata": {
        "id": "e863334c",
        "outputId": "25619ff5-d97e-4214-a4b9-1dd20f5493a7",
        "colab": {
          "base_uri": "https://localhost:8080/"
        }
      },
      "outputs": [
        {
          "output_type": "stream",
          "name": "stdout",
          "text": [
            "Enter length of list: N = 10\n",
            "[3, 5, 19, 24, 37, 38, 38, 39, 50, 53]\n",
            "Enter a value to search: 38\n",
            "ID of elem =  6\n"
          ]
        }
      ],
      "source": [
        "n = int(input(\"Enter length of list: N = \"))\n",
        "ls = [random.randint(1, 100) for _ in range(n)]\n",
        "ls.sort()\n",
        "print(ls)\n",
        "value = int(input(\"Enter a value to search: \"))\n",
        "print(\"ID of elem = \", BinarySearch(ls, value))"
      ]
    },
    {
      "cell_type": "markdown",
      "id": "015dd054",
      "metadata": {
        "id": "015dd054"
      },
      "source": [
        "### Бинарное дерево"
      ]
    },
    {
      "cell_type": "code",
      "execution_count": null,
      "id": "f1b98e61",
      "metadata": {
        "id": "f1b98e61"
      },
      "outputs": [],
      "source": [
        "class Node:\n",
        "    def __init__(self, value):\n",
        "        self.value = value\n",
        "        self.left = None\n",
        "        self.right = None\n",
        "\n",
        "\n",
        "class BinaryTree:\n",
        "    def __init__(self):\n",
        "        self.root = None\n",
        "\n",
        "    def insert(self, value):\n",
        "        new_node = Node(value)  # Создание нового узла\n",
        "        if self.root is None:  # Если дерево пустое\n",
        "            self.root = new_node  # Новый узел становится корневым\n",
        "            return\n",
        "        current = self.root  # Текущий узел - корневой\n",
        "        while True:\n",
        "            if value < current.value:  # Если значение меньше значения текущего узла\n",
        "                if current.left is None:  # Если левый потомок отсутствует\n",
        "                    current.left = new_node  # Новый узел становится левым потомком текущего узла\n",
        "                    break\n",
        "                current = current.left  # Текущим узлом становится левый потомок текущего узла\n",
        "            else:  # Если значение больше или равно значению текущего узла\n",
        "                if current.right is None:  # Если правый потомок отсутствует\n",
        "                    current.right = new_node  # Новый узел становится правым потомком текущего узла\n",
        "                    break\n",
        "                current = current.right  # Текущим узлом становится правый потомок текущего узла\n",
        "\n",
        "    def search(self, value):\n",
        "        current = self.root  # Текущий узел - корневой\n",
        "        while True:\n",
        "            if current is None:  # Если текущий узел отсутствует\n",
        "                return False  # Узел не найден\n",
        "            if current.value == value:  # Если значения текущего узла искомого узла равны\n",
        "                return True  # Узел найден\n",
        "            elif value < current.value:  # Если значение меньше значения текущего узла\n",
        "                current = current.left  # Текущим узлом становится левый потомок текущего узла\n",
        "            else:  # Если значение больше значения текущего узла\n",
        "                current = current.right  # Текущим узлом становится правый потомок текущего узла\n",
        "                \n",
        "    def printTree(self, node):\n",
        "        if node is None:\n",
        "            return\n",
        "        self.printTree(node.left)\n",
        "        print(node.value)\n",
        "        self.printTree(node.right)"
      ]
    },
    {
      "cell_type": "code",
      "execution_count": null,
      "id": "6b2d8fe9",
      "metadata": {
        "id": "6b2d8fe9",
        "outputId": "2ef9af21-3897-4740-c663-bb3786777c7a",
        "colab": {
          "base_uri": "https://localhost:8080/"
        }
      },
      "outputs": [
        {
          "output_type": "stream",
          "name": "stdout",
          "text": [
            "True\n"
          ]
        }
      ],
      "source": [
        "tree = BinaryTree()\n",
        "for i in range(10):\n",
        "    tree.insert(random.randint(1, 10))\n",
        "print(tree.search(10))"
      ]
    },
    {
      "cell_type": "code",
      "execution_count": null,
      "id": "624bca0d",
      "metadata": {
        "id": "624bca0d",
        "outputId": "1513d1ba-4a7e-4477-d34b-389cc60883eb",
        "colab": {
          "base_uri": "https://localhost:8080/"
        }
      },
      "outputs": [
        {
          "output_type": "stream",
          "name": "stdout",
          "text": [
            "1\n",
            "3\n",
            "4\n",
            "4\n",
            "5\n",
            "6\n",
            "8\n",
            "9\n",
            "10\n",
            "10\n"
          ]
        }
      ],
      "source": [
        "tree.printTree(tree.root)"
      ]
    },
    {
      "cell_type": "markdown",
      "id": "3b96a0b8",
      "metadata": {
        "id": "3b96a0b8"
      },
      "source": [
        "### Поиск Фибоначчи"
      ]
    },
    {
      "cell_type": "code",
      "execution_count": null,
      "id": "bb6bbc33",
      "metadata": {
        "id": "bb6bbc33"
      },
      "outputs": [],
      "source": [
        "def fibonacci_search(arr, item):\n",
        "    fib1, fib2 = 0, 1\n",
        "    fib_sum = fib1 + fib2\n",
        "    while fib_sum < len(arr):\n",
        "        fib1 = fib2\n",
        "        fib2 = fib_sum\n",
        "        fib_sum = fib1 + fib2\n",
        "\n",
        "    offset = -1\n",
        "    while fib_sum > 1:\n",
        "        i = min(offset + fib1, len(arr) - 1)\n",
        "        if arr[i] < item:\n",
        "            fib_sum = fib2\n",
        "            fib2 = fib1\n",
        "            fib1 = fib_sum - fib2\n",
        "            offset = i\n",
        "        elif arr[i] > item:\n",
        "            fib_sum = fib1\n",
        "            fib2 = fib2 - fib1\n",
        "            fib1 = fib_sum - fib2\n",
        "        else:\n",
        "            return i\n",
        "    if fib2 == 1 and arr[offset + 1] == item:\n",
        "        return offset + 1\n",
        "    return None"
      ]
    },
    {
      "cell_type": "code",
      "execution_count": null,
      "id": "7be22db9",
      "metadata": {
        "id": "7be22db9",
        "outputId": "8674dd43-3a0a-4ff3-aaed-afb829b96fd6",
        "colab": {
          "base_uri": "https://localhost:8080/"
        }
      },
      "outputs": [
        {
          "output_type": "stream",
          "name": "stdout",
          "text": [
            "Enter N: 10\n",
            "[12, 12, 20, 21, 25, 35, 50, 50, 69, 78]\n",
            "Enter item: 25\n",
            "Element 25 found at index 4\n"
          ]
        }
      ],
      "source": [
        "n = int(input(\"Enter N: \"))\n",
        "arr = sorted([random.randint(1, 100) for _ in range(n)])\n",
        "print(arr)\n",
        "item = int(input(\"Enter item: \"))\n",
        "result = fibonacci_search(arr, item)\n",
        "if result is not None:\n",
        "    print(f\"Element {item} found at index {result}\")\n",
        "else:\n",
        "    print(f\"Element {item} not found\")"
      ]
    },
    {
      "cell_type": "markdown",
      "id": "24145216",
      "metadata": {
        "id": "24145216"
      },
      "source": [
        "### Интерполяционный поиск"
      ]
    },
    {
      "cell_type": "code",
      "execution_count": null,
      "id": "e18364d7",
      "metadata": {
        "id": "e18364d7"
      },
      "outputs": [],
      "source": [
        "def interpolation_search(arr, item):\n",
        "    low = 0\n",
        "    high = len(arr) - 1\n",
        "    while low <= high and item >= arr[low] and item <= arr[high]:\n",
        "        pos = low + ((item - arr[low]) * (high - low) // (arr[high] - arr[low]))\n",
        "        if arr[pos] == item:\n",
        "            return pos\n",
        "        elif arr[pos] < item:\n",
        "            low = pos + 1\n",
        "        else:\n",
        "            high = pos - 1\n",
        "    return None"
      ]
    },
    {
      "cell_type": "code",
      "execution_count": null,
      "id": "d0cd306b",
      "metadata": {
        "id": "d0cd306b",
        "outputId": "369df049-ecf2-42e0-e5ba-376031dc2316",
        "colab": {
          "base_uri": "https://localhost:8080/"
        }
      },
      "outputs": [
        {
          "output_type": "stream",
          "name": "stdout",
          "text": [
            "Enter N: 10\n",
            "[12, 22, 31, 34, 34, 47, 64, 67, 77, 93]\n",
            "Enter item: 47\n",
            "Element 47 found at index 5\n"
          ]
        }
      ],
      "source": [
        "n = int(input(\"Enter N: \"))\n",
        "arr = sorted([random.randint(1, 100) for _ in range(n)])\n",
        "print(arr)\n",
        "item = int(input(\"Enter item: \"))\n",
        "result = interpolation_search(arr, item)\n",
        "if result is not None:\n",
        "    print(f\"Element {item} found at index {result}\")\n",
        "else:\n",
        "    print(f\"Element {item} not found\")"
      ]
    },
    {
      "cell_type": "markdown",
      "id": "5b60ec1e",
      "metadata": {
        "id": "5b60ec1e"
      },
      "source": [
        "### Сравнение методов поиска"
      ]
    },
    {
      "cell_type": "code",
      "execution_count": null,
      "id": "734ef501",
      "metadata": {
        "id": "734ef501"
      },
      "outputs": [],
      "source": [
        "arrays, elems = [], []\n",
        "for i in range(1, 11):\n",
        "    arrays.append([random.randint(1, 1000*i) for _ in range(1000*i)])\n",
        "    elems.append(1000*i)"
      ]
    },
    {
      "cell_type": "code",
      "execution_count": null,
      "id": "888ae9f2",
      "metadata": {
        "id": "888ae9f2",
        "outputId": "9eb7404b-62a0-4d5f-f125-4cabc313c274",
        "colab": {
          "base_uri": "https://localhost:8080/"
        }
      },
      "outputs": [
        {
          "output_type": "stream",
          "name": "stdout",
          "text": [
            "1000 элементов:  0.000172 cекунд\n",
            "2000 элементов:  0.000396 cекунд\n",
            "3000 элементов:  0.000618 cекунд\n",
            "4000 элементов:  0.000766 cекунд\n",
            "5000 элементов:  0.000992 cекунд\n",
            "6000 элементов:  0.001225 cекунд\n",
            "7000 элементов:  0.001496 cекунд\n",
            "8000 элементов:  0.001682 cекунд\n",
            "9000 элементов:  0.001616 cекунд\n",
            "10000 элементов:  0.001699 cекунд\n"
          ]
        }
      ],
      "source": [
        "binary = []\n",
        "for i in range(len(arrays)):\n",
        "    start = time.perf_counter()\n",
        "    array = sorted(arrays[i])\n",
        "    res = BinarySearch(array, 999*i+1)\n",
        "    end = time.perf_counter()\n",
        "    print(1000*(i+1), \"элементов: \", round(end-start, 6), \"cекунд\")\n",
        "    binary.append(end-start)"
      ]
    },
    {
      "cell_type": "code",
      "execution_count": null,
      "id": "a03dd95c",
      "metadata": {
        "id": "a03dd95c",
        "outputId": "50d0cd81-b25f-4c34-ad3a-65f31c9461f0",
        "colab": {
          "base_uri": "https://localhost:8080/"
        }
      },
      "outputs": [
        {
          "output_type": "stream",
          "name": "stdout",
          "text": [
            "1000 элементов:  8e-06 cекунд\n",
            "2000 элементов:  1.2e-05 cекунд\n",
            "3000 элементов:  1.1e-05 cекунд\n",
            "4000 элементов:  1.3e-05 cекунд\n",
            "5000 элементов:  1.4e-05 cекунд\n",
            "6000 элементов:  1.4e-05 cекунд\n",
            "7000 элементов:  1.5e-05 cекунд\n",
            "8000 элементов:  1.4e-05 cекунд\n",
            "9000 элементов:  1.4e-05 cекунд\n",
            "10000 элементов:  1.1e-05 cекунд\n"
          ]
        }
      ],
      "source": [
        "binarytree = []\n",
        "for i in range(len(arrays)):\n",
        "    tree = BinaryTree()\n",
        "    for elem in arrays[i]:\n",
        "        tree.insert(elem)\n",
        "    start = time.perf_counter()\n",
        "    res = tree.search(999*i+1)\n",
        "    end = time.perf_counter()\n",
        "    print(1000*(i+1), \"элементов: \", round(end-start, 6), \"cекунд\")\n",
        "    binarytree.append(end-start)"
      ]
    },
    {
      "cell_type": "code",
      "execution_count": null,
      "id": "0c9cb06c",
      "metadata": {
        "id": "0c9cb06c",
        "outputId": "b0d38905-6f9c-4664-c892-acbe498b84a1",
        "colab": {
          "base_uri": "https://localhost:8080/"
        }
      },
      "outputs": [
        {
          "output_type": "stream",
          "name": "stdout",
          "text": [
            "1000 элементов:  0.000173 cекунд\n",
            "2000 элементов:  0.000332 cекунд\n",
            "3000 элементов:  0.000545 cекунд\n",
            "4000 элементов:  0.000745 cекунд\n",
            "5000 элементов:  0.000986 cекунд\n",
            "6000 элементов:  0.00116 cекунд\n",
            "7000 элементов:  0.001475 cекунд\n",
            "8000 элементов:  0.001624 cекунд\n",
            "9000 элементов:  0.001906 cекунд\n",
            "10000 элементов:  0.002142 cекунд\n"
          ]
        }
      ],
      "source": [
        "fibonacci = []\n",
        "for i in range(len(arrays)):\n",
        "    start = time.perf_counter()\n",
        "    array = sorted(arrays[i])\n",
        "    res = fibonacci_search(array, 999*i+1)\n",
        "    end = time.perf_counter()\n",
        "    print(1000*(i+1), \"элементов: \", round(end-start, 6), \"cекунд\")\n",
        "    fibonacci.append(end-start)"
      ]
    },
    {
      "cell_type": "code",
      "execution_count": null,
      "id": "5109f354",
      "metadata": {
        "id": "5109f354",
        "outputId": "2aedaf2c-6c2c-47f9-dfff-b34df81907ef",
        "colab": {
          "base_uri": "https://localhost:8080/"
        }
      },
      "outputs": [
        {
          "output_type": "stream",
          "name": "stdout",
          "text": [
            "1000 элементов:  0.000176 cекунд\n",
            "2000 элементов:  0.000333 cекунд\n",
            "3000 элементов:  0.000574 cекунд\n",
            "4000 элементов:  0.000744 cекунд\n",
            "5000 элементов:  0.000937 cекунд\n",
            "6000 элементов:  0.00119 cекунд\n",
            "7000 элементов:  0.001364 cекунд\n",
            "8000 элементов:  0.001693 cекунд\n",
            "9000 элементов:  0.001763 cекунд\n",
            "10000 элементов:  0.001656 cекунд\n"
          ]
        }
      ],
      "source": [
        "interpol = []\n",
        "for i in range(len(arrays)):\n",
        "    start = time.perf_counter()\n",
        "    array = sorted(arrays[i])\n",
        "    res = interpolation_search(array, 999*i+1)\n",
        "    end = time.perf_counter()\n",
        "    print(1000*(i+1), \"элементов: \", round(end-start, 6), \"cекунд\")\n",
        "    interpol.append(end-start)"
      ]
    },
    {
      "cell_type": "code",
      "execution_count": null,
      "id": "e2262c26",
      "metadata": {
        "id": "e2262c26",
        "outputId": "8fb252ab-6389-41c7-9a7f-5d63200a78a9",
        "colab": {
          "base_uri": "https://localhost:8080/"
        }
      },
      "outputs": [
        {
          "output_type": "stream",
          "name": "stdout",
          "text": [
            "1000 элементов:  0.000157 cекунд\n",
            "2000 элементов:  0.000352 cекунд\n",
            "3000 элементов:  0.000591 cекунд\n",
            "4000 элементов:  0.000798 cекунд\n",
            "5000 элементов:  0.001094 cекунд\n",
            "6000 элементов:  0.001385 cекунд\n",
            "7000 элементов:  0.002091 cекунд\n",
            "8000 элементов:  0.001913 cекунд\n",
            "9000 элементов:  0.001596 cекунд\n",
            "10000 элементов:  0.001738 cекунд\n"
          ]
        }
      ],
      "source": [
        "python = []\n",
        "for i in range(len(arrays)):\n",
        "    start = time.perf_counter()\n",
        "    array = sorted(arrays[i])\n",
        "    try:\n",
        "        array.index(999*i+1)\n",
        "    except ValueError:\n",
        "        pass\n",
        "    end = time.perf_counter()\n",
        "    print(1000*(i+1), \"элементов: \", round(end-start, 6), \"cекунд\")\n",
        "    python.append(end-start)"
      ]
    },
    {
      "cell_type": "code",
      "execution_count": null,
      "id": "815cd39a",
      "metadata": {
        "id": "815cd39a",
        "outputId": "adc3f1e3-d31c-4a0d-e3fa-7cfa96fecfb2",
        "colab": {
          "base_uri": "https://localhost:8080/",
          "height": 449
        }
      },
      "outputs": [
        {
          "output_type": "display_data",
          "data": {
            "text/plain": [
              "<Figure size 640x480 with 1 Axes>"
            ],
            "image/png": "[encoded data removed]"
          },
          "metadata": {}
        }
      ],
      "source": [
        "#общий график - сравнение алгоритмов\n",
        "plt.xlabel('Количество элементов')\n",
        "plt.ylabel('Временная сложность')\n",
        "plt.plot(elems, binary, label ='BinarySearch')\n",
        "plt.plot(elems, binarytree, label ='BinaryTree')\n",
        "plt.plot(elems, fibonacci, label ='FibonacciSearch')\n",
        "plt.plot(elems, interpol, label ='InterpolationSearch')\n",
        "plt.plot(elems, python, label ='PythonSearch')\n",
        "plt.grid()\n",
        "plt.legend()\n",
        "plt.show()"
      ]
    },
    {
      "cell_type": "code",
      "execution_count": null,
      "id": "6e857c80",
      "metadata": {
        "id": "6e857c80",
        "outputId": "348d3e20-fd97-4b6c-a6a9-8a5154139d2e"
      },
      "outputs": [
        {
          "data": {
            "text/html": [
              "<div>\n",
              "<style scoped>\n",
              "    .dataframe tbody tr th:only-of-type {\n",
              "        vertical-align: middle;\n",
              "    }\n",
              "\n",
              "    .dataframe tbody tr th {\n",
              "        vertical-align: top;\n",
              "    }\n",
              "\n",
              "    .dataframe thead th {\n",
              "        text-align: right;\n",
              "    }\n",
              "</style>\n",
              "<table border=\"1\" class=\"dataframe\">\n",
              "  <thead>\n",
              "    <tr style=\"text-align: right;\">\n",
              "      <th></th>\n",
              "      <th>BinarySearch</th>\n",
              "      <th>BinaryTree</th>\n",
              "      <th>FibonacciSearch</th>\n",
              "      <th>InterpolationSearch</th>\n",
              "      <th>PythonSearch</th>\n",
              "    </tr>\n",
              "  </thead>\n",
              "  <tbody>\n",
              "    <tr>\n",
              "      <th>1000</th>\n",
              "      <td>0.000220</td>\n",
              "      <td>0.000004</td>\n",
              "      <td>0.000244</td>\n",
              "      <td>0.000205</td>\n",
              "      <td>0.000227</td>\n",
              "    </tr>\n",
              "    <tr>\n",
              "      <th>2000</th>\n",
              "      <td>0.000250</td>\n",
              "      <td>0.000006</td>\n",
              "      <td>0.000279</td>\n",
              "      <td>0.000250</td>\n",
              "      <td>0.000271</td>\n",
              "    </tr>\n",
              "    <tr>\n",
              "      <th>3000</th>\n",
              "      <td>0.000402</td>\n",
              "      <td>0.000006</td>\n",
              "      <td>0.000433</td>\n",
              "      <td>0.000405</td>\n",
              "      <td>0.000426</td>\n",
              "    </tr>\n",
              "    <tr>\n",
              "      <th>4000</th>\n",
              "      <td>0.000589</td>\n",
              "      <td>0.000005</td>\n",
              "      <td>0.000593</td>\n",
              "      <td>0.000574</td>\n",
              "      <td>0.000651</td>\n",
              "    </tr>\n",
              "    <tr>\n",
              "      <th>5000</th>\n",
              "      <td>0.000693</td>\n",
              "      <td>0.000006</td>\n",
              "      <td>0.000729</td>\n",
              "      <td>0.000686</td>\n",
              "      <td>0.000817</td>\n",
              "    </tr>\n",
              "    <tr>\n",
              "      <th>6000</th>\n",
              "      <td>0.000869</td>\n",
              "      <td>0.000007</td>\n",
              "      <td>0.000904</td>\n",
              "      <td>0.000836</td>\n",
              "      <td>0.000993</td>\n",
              "    </tr>\n",
              "    <tr>\n",
              "      <th>7000</th>\n",
              "      <td>0.001015</td>\n",
              "      <td>0.000005</td>\n",
              "      <td>0.000978</td>\n",
              "      <td>0.000963</td>\n",
              "      <td>0.001178</td>\n",
              "    </tr>\n",
              "    <tr>\n",
              "      <th>8000</th>\n",
              "      <td>0.001113</td>\n",
              "      <td>0.000007</td>\n",
              "      <td>0.001233</td>\n",
              "      <td>0.001109</td>\n",
              "      <td>0.001266</td>\n",
              "    </tr>\n",
              "    <tr>\n",
              "      <th>9000</th>\n",
              "      <td>0.001480</td>\n",
              "      <td>0.000006</td>\n",
              "      <td>0.001282</td>\n",
              "      <td>0.001255</td>\n",
              "      <td>0.001593</td>\n",
              "    </tr>\n",
              "    <tr>\n",
              "      <th>10000</th>\n",
              "      <td>0.001554</td>\n",
              "      <td>0.000004</td>\n",
              "      <td>0.001494</td>\n",
              "      <td>0.001638</td>\n",
              "      <td>0.001668</td>\n",
              "    </tr>\n",
              "  </tbody>\n",
              "</table>\n",
              "</div>"
            ],
            "text/plain": [
              "       BinarySearch  BinaryTree  FibonacciSearch  InterpolationSearch  \\\n",
              "1000       0.000220    0.000004         0.000244             0.000205   \n",
              "2000       0.000250    0.000006         0.000279             0.000250   \n",
              "3000       0.000402    0.000006         0.000433             0.000405   \n",
              "4000       0.000589    0.000005         0.000593             0.000574   \n",
              "5000       0.000693    0.000006         0.000729             0.000686   \n",
              "6000       0.000869    0.000007         0.000904             0.000836   \n",
              "7000       0.001015    0.000005         0.000978             0.000963   \n",
              "8000       0.001113    0.000007         0.001233             0.001109   \n",
              "9000       0.001480    0.000006         0.001282             0.001255   \n",
              "10000      0.001554    0.000004         0.001494             0.001638   \n",
              "\n",
              "       PythonSearch  \n",
              "1000       0.000227  \n",
              "2000       0.000271  \n",
              "3000       0.000426  \n",
              "4000       0.000651  \n",
              "5000       0.000817  \n",
              "6000       0.000993  \n",
              "7000       0.001178  \n",
              "8000       0.001266  \n",
              "9000       0.001593  \n",
              "10000      0.001668  "
            ]
          },
          "execution_count": 81,
          "metadata": {},
          "output_type": "execute_result"
        }
      ],
      "source": [
        "df = pd.DataFrame({'BinarySearch': [binary[i] for i in range(10)],\n",
        "                   'BinaryTree': [binarytree[i] for i in range(10)],\n",
        "                   'FibonacciSearch': [fibonacci[i] for i in range(10)],\n",
        "                   'InterpolationSearch': [interpol[i] for i in range(10)],\n",
        "                   'PythonSearch': [python[i] for i in range(10)]}, index=elems).round(6)\n",
        "\n",
        "df"
      ]
    },
    {
      "cell_type": "markdown",
      "id": "7e804189",
      "metadata": {
        "id": "7e804189"
      },
      "source": [
        "### Задание 2\n",
        "### Простое рехэширование"
      ]
    },
    {
      "cell_type": "code",
      "execution_count": null,
      "id": "78e87d14",
      "metadata": {
        "id": "78e87d14"
      },
      "outputs": [],
      "source": [
        "def hash_generate(key):\n",
        "    return key % 6\n",
        "\n",
        "def insert(key, value):\n",
        "    index = hash_generate(key)\n",
        "    while index in hash_table:\n",
        "        index = (index + 1) % 5\n",
        "    hash_table[index] = value"
      ]
    },
    {
      "cell_type": "code",
      "execution_count": null,
      "id": "bd032645",
      "metadata": {
        "id": "bd032645",
        "outputId": "a186e6d3-3ab7-4f92-f04e-91a8931faad1"
      },
      "outputs": [
        {
          "name": "stdout",
          "output_type": "stream",
          "text": [
            "{1: 2, 2: 0, 4: 4, 5: 3, 3: 7}\n"
          ]
        }
      ],
      "source": [
        "hash_table = {}\n",
        "insert(1, 2)\n",
        "insert(2, 0)\n",
        "insert(4, 4)\n",
        "insert(11, 3)\n",
        "insert(11, 7)\n",
        "print(hash_table)"
      ]
    },
    {
      "cell_type": "markdown",
      "id": "c76f040a",
      "metadata": {
        "id": "c76f040a"
      },
      "source": [
        "### Рехэширование с псевдослучайными числами"
      ]
    },
    {
      "cell_type": "code",
      "execution_count": null,
      "id": "178f6f22",
      "metadata": {
        "id": "178f6f22"
      },
      "outputs": [],
      "source": [
        "def RandomHash(numbers: list) -> list:\n",
        "    # Создаем новый список для хранения перехешированных чисел\n",
        "    new_numbers = []\n",
        "    # Перебираем числа из исходного списка\n",
        "    for number in numbers:\n",
        "        # Генерируем псевдослучайное число в диапазоне от 0 до 100\n",
        "        random_number = random.randint(0, 100)\n",
        "        # Перехешируем число с помощью псевдослучайного числа\n",
        "        hashed_number = (number * random_number) % 101\n",
        "        # Добавляем перехешированное число в новый список\n",
        "        new_numbers.append(hashed_number)\n",
        "    return new_numbers"
      ]
    },
    {
      "cell_type": "code",
      "execution_count": null,
      "id": "64a6da47",
      "metadata": {
        "id": "64a6da47",
        "outputId": "2e74fe79-b4a8-467d-95de-cd7b5824a1f1"
      },
      "outputs": [
        {
          "name": "stdout",
          "output_type": "stream",
          "text": [
            "Enter N: 10\n",
            "Исходный список чисел: [7, 95, 61, 25, 13, 2, 20, 73, 67, 82]\n",
            "Перехешированный список чисел: [100, 51, 62, 51, 44, 90, 72, 22, 65, 13]\n"
          ]
        }
      ],
      "source": [
        "n = int(input(\"Enter N: \"))\n",
        "# Создаем список чисел\n",
        "numbers = [random.randint(1, 100) for _ in range(n)]\n",
        "# Выводим исходный список и список перехешированных чисел\n",
        "print(\"Исходный список чисел:\", numbers)\n",
        "print(\"Перехешированный список чисел:\", RandomHash(numbers))"
      ]
    },
    {
      "cell_type": "markdown",
      "id": "b483af2c",
      "metadata": {
        "id": "b483af2c"
      },
      "source": [
        "### Метод цепочек"
      ]
    },
    {
      "cell_type": "code",
      "execution_count": null,
      "id": "68650f22",
      "metadata": {
        "id": "68650f22"
      },
      "outputs": [],
      "source": [
        "# Метод цепочек - это метод решения коллизий в хэш-таблицах.\n",
        "# Он основан на создании связанных списков (цепочек) элементов,\n",
        "# которые имеют одинаковый хэш-код.\n",
        "# Создаем класс узла списка\n",
        "class HashNode:\n",
        "    def __init__(self, key, value):\n",
        "        self.key = key\n",
        "        self.value = value\n",
        "        self.next = None\n",
        "\n",
        "\n",
        "# Создаем класс хэш-таблицы\n",
        "class HashTable:\n",
        "    def __init__(self):\n",
        "        self.capacity = 10  # начальная емкость таблицы\n",
        "        self.size = 0  # количество элементов в таблице\n",
        "        self.buckets = [None] * self.capacity  # создаем пустые списки для каждой ячейки таблицы\n",
        "\n",
        "    # Метод добавления элемента в таблицу\n",
        "    def add(self, key, value):\n",
        "        index = hash(key) % self.capacity  # вычисляем хэш-код ключа и индекс ячейки таблицы\n",
        "        node = self.buckets[index]  # получаем список (цепочку) элементов по индексу\n",
        "        while node:  # проходим по всем элементам цепочки\n",
        "            if node.key == key:  # если ключ уже есть в таблице, обновляем значение\n",
        "                node.value = value\n",
        "                return\n",
        "            node = node.next\n",
        "        # если ключа нет в таблице, добавляем его в начало цепочки\n",
        "        new_node = HashNode(key, value)\n",
        "        new_node.next = self.buckets[index]\n",
        "        self.buckets[index] = new_node\n",
        "        self.size += 1\n",
        "        # если количество элементов превысило 70% от емкости таблицы, увеличиваем емкость вдвое\n",
        "        if self.size > 0.7 * self.capacity:\n",
        "            self.resize()\n",
        "\n",
        "    # Метод получения значения по ключу\n",
        "    def get(self, key):\n",
        "        index = hash(key) % self.capacity  # вычисляем хэш-код ключа и индекс ячейки таблицы\n",
        "        node = self.buckets[index]  # получаем список (цепочку) элементов по индексу\n",
        "        while node:  # проходим по всем элементам цепочки\n",
        "            if node.key == key:  # если ключ найден, возвращаем его значение\n",
        "                return node.value\n",
        "            node = node.next\n",
        "        # если ключ не найден, возвращаем None\n",
        "        return None\n",
        "\n",
        "    # Метод удаления элемента из таблицы\n",
        "    def remove(self, key):\n",
        "        index = hash(key) % self.capacity  # вычисляем хэш-код ключа и индекс ячейки таблицы\n",
        "        node = self.buckets[index]  # получаем список (цепочку) элементов по индексу\n",
        "        prev = None\n",
        "        while node:  # проходим по всем элементам цепочки\n",
        "            if node.key == key:  # если ключ найден, удаляем элемент\n",
        "                if prev:\n",
        "                    prev.next = node.next\n",
        "                else:\n",
        "                    self.buckets[index] = node.next\n",
        "                self.size -= 1\n",
        "                return\n",
        "            prev = node\n",
        "            node = node.next\n",
        "\n",
        "    # Метод изменения емкости таблицы\n",
        "    def resize(self):\n",
        "        new_capacity = self.capacity * 2  # увеличиваем емкость вдвое\n",
        "        new_buckets = [None] * new_capacity  # создаем новую таблицу с увеличенной емкостью\n",
        "        # перехешируем все элементы из старой таблицы в новую\n",
        "        for i in range(self.capacity):\n",
        "            node = self.buckets[i]\n",
        "            while node:\n",
        "                index = hash(node.key) % new_capacity\n",
        "                if new_buckets[index]:\n",
        "                    new_node = new_buckets[index]\n",
        "                    while new_node.next:\n",
        "                        new_node = new_node.next\n",
        "                    new_node.next = HashNode(node.key, node.value)\n",
        "                else:\n",
        "                    new_buckets[index] = HashNode(node.key, node.value)\n",
        "                node = node.next\n",
        "        self.capacity = new_capacity\n",
        "        self.buckets = new_buckets"
      ]
    },
    {
      "cell_type": "code",
      "execution_count": null,
      "id": "9b2d863a",
      "metadata": {
        "scrolled": true,
        "id": "9b2d863a",
        "outputId": "b5a58be2-1e58-483b-d6b9-f2e5fd2dda1e"
      },
      "outputs": [
        {
          "name": "stdout",
          "output_type": "stream",
          "text": [
            "value1\n",
            "None\n",
            "1\n",
            "2\n"
          ]
        }
      ],
      "source": [
        "ht = HashTable()\n",
        "ht.add('key1', 'value1')\n",
        "ht.add('key2', 'value2')\n",
        "ht.add('key3', 'value3')\n",
        "ht.add('key4', 'value4')\n",
        "ht.add('key5', 1)\n",
        "ht.add('key6', 2)\n",
        "print(ht.get('key1')) # 'value1'\n",
        "ht.remove('key3')\n",
        "print(ht.get('key3')) # None\n",
        "print(ht.get('key5')) # 1\n",
        "print(ht.get('key6')) # 2"
      ]
    },
    {
      "cell_type": "markdown",
      "id": "2d6da515",
      "metadata": {
        "id": "2d6da515"
      },
      "source": [
        "### Задание 3\n",
        "Расставить на стандартной 64-клеточной шахматной доске 8 ферзей так, чтобы ни один из них не находился под боем другого». Подразумевается, что ферзь бьёт все клетки, расположенные по вертикалям, горизонталям и обеим диагоналям"
      ]
    },
    {
      "cell_type": "code",
      "execution_count": null,
      "id": "6835c748",
      "metadata": {
        "scrolled": true,
        "id": "6835c748",
        "outputId": "030a350f-9927-4957-e2ae-339fc4b23305",
        "colab": {
          "base_uri": "https://localhost:8080/"
        }
      },
      "outputs": [
        {
          "output_type": "stream",
          "name": "stdout",
          "text": [
            "▢♛▢▢▢▢▢▢\n",
            "▢▢▢♛▢▢▢▢\n",
            "▢▢▢▢▢♛▢▢\n",
            "▢▢▢▢▢▢▢♛\n",
            "▢▢♛▢▢▢▢▢\n",
            "♛▢▢▢▢▢▢▢\n",
            "▢▢▢▢▢▢♛▢\n",
            "▢▢▢▢♛▢▢▢\n"
          ]
        }
      ],
      "source": [
        "class Queen:\n",
        "    def __init__(self, x, y):\n",
        "        self.x = x\n",
        "        self.y = y\n",
        "\n",
        "    def attack(self, queen) -> bool:\n",
        "        return self.x == queen.x or self.y == queen.y or abs(queen.x - self.x) == abs(queen.y - self.y)\n",
        "\n",
        "    def getCoord(self):\n",
        "        return (self.x, self.y)\n",
        "\n",
        "\n",
        "def SolveQueens(boardSize: int, queens: list = None):\n",
        "    if queens is None:\n",
        "        queens = [Queen(0, random.randint(0, boardSize - 1))]\n",
        "\n",
        "    if len(queens) == boardSize:\n",
        "        res = []\n",
        "        for queen in queens:\n",
        "            res.append(queen.getCoord())\n",
        "        return res\n",
        "    else:\n",
        "        row = len(queens)\n",
        "        candidates = [Queen(row, i) for i in range(boardSize)]\n",
        "        for candidate in candidates:\n",
        "            under_attack = False\n",
        "            for queen in queens:\n",
        "                if queen.attack(candidate):\n",
        "                    under_attack = True\n",
        "                    break\n",
        "            if not under_attack:\n",
        "                queens.append(candidate)\n",
        "                result = SolveQueens(boardSize, queens)\n",
        "                if result is not None:\n",
        "                    return result\n",
        "                queens.pop()\n",
        "        return None\n",
        "\n",
        "\n",
        "def Draw(placement):\n",
        "    boardSize = len(placement)\n",
        "    for x in range(boardSize):\n",
        "        for y in range(boardSize):\n",
        "            if (x, y) in placement:\n",
        "                print(\"♛\", end=\"\")\n",
        "            else:\n",
        "                print(\"▢\", end=\"\")\n",
        "        print()\n",
        "\n",
        "\n",
        "Draw(SolveQueens(8))"
      ]
    },
    {
      "cell_type": "markdown",
      "id": "c0870ad8",
      "metadata": {
        "id": "c0870ad8"
      },
      "source": [
        "## Вывод\n",
        "В ходе данной лабораторной работы были реализованы методы поиска элемента в массиве и определены зависимости времени исполнения алгоритма от числа элементов массива, построен график и сводная таблица. Были реализованы три вида хэширования. Была решена задача с расстановкой ферзей на шахматной доске."
      ]
    }
  ],
  "metadata": {
    "kernelspec": {
      "display_name": "Python 3 (ipykernel)",
      "language": "python",
      "name": "python3"
    },
    "language_info": {
      "codemirror_mode": {
        "name": "ipython",
        "version": 3
      },
      "file_extension": ".py",
      "mimetype": "text/x-python",
      "name": "python",
      "nbconvert_exporter": "python",
      "pygments_lexer": "ipython3",
      "version": "3.9.13"
    },
    "colab": {
      "provenance": []
    }
  },
  "nbformat": 4,
  "nbformat_minor": 5
}