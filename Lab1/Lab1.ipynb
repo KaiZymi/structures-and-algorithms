{
  "cells": [
    {
      "cell_type": "markdown",
      "metadata": {
        "id": "fifteen-sailing"
      },
      "source": [
        "# Лабораторная работа №1\n",
        "## Выполнил студент группы БСТ2105 Валишин Марк"
      ],
      "id": "fifteen-sailing"
    },
    {
      "cell_type": "markdown",
      "metadata": {
        "id": "particular-syndicate"
      },
      "source": [
        "### Оглавление\n",
        "1. [Задание 1](#Задание-№1)\n",
        "2. [Задание 2](#Задание-№2)\n",
        "3. [Задание 3](#Задание-№3)\n",
        "4. [Вывод](#Вывод)"
      ],
      "id": "particular-syndicate"
    },
    {
      "cell_type": "markdown",
      "metadata": {
        "id": "arctic-stocks"
      },
      "source": [
        "### Задание №1\n",
        "<i> Вызвать функцию print() и передать туда строку Hello, World! </i>"
      ],
      "id": "arctic-stocks"
    },
    {
      "cell_type": "code",
      "execution_count": null,
      "metadata": {
        "colab": {
          "base_uri": "https://localhost:8080/"
        },
        "id": "caring-truck",
        "outputId": "799fd3ad-e512-4b03-d8a9-7d22a4d57840",
        "scrolled": true
      },
      "outputs": [
        {
          "name": "stdout",
          "output_type": "stream",
          "text": [
            "Hello, World!\n"
          ]
        }
      ],
      "source": [
        "print(\"Hello, World!\")"
      ],
      "id": "caring-truck"
    },
    {
      "cell_type": "markdown",
      "metadata": {
        "id": "maritime-conversation"
      },
      "source": [
        "### Задание №2\n",
        "Написать генератор случайных матриц(многомерных), который принимает\n",
        "опциональные параметры <b>m</b>, <b>n</b>, <b>min_limit</b>, <b>max_limit</b>, где <b>m</b> и <b>n</b> указывают размер\n",
        "матрицы, а <b>min_lim</b> и <b>max_lim</b> - минимальное и максимальное значение для\n",
        "генерируемого числа."
      ],
      "id": "maritime-conversation"
    },
    {
      "cell_type": "code",
      "execution_count": null,
      "metadata": {
        "colab": {
          "background_save": true
        },
        "id": "built-contact"
      },
      "outputs": [],
      "source": [
        "import random\n",
        "import time"
      ],
      "id": "built-contact"
    },
    {
      "cell_type": "code",
      "execution_count": null,
      "metadata": {
        "colab": {
          "background_save": true
        },
        "id": "alert-charm"
      },
      "outputs": [],
      "source": [
        "user_m = int(input())\n",
        "user_n = int(input())\n",
        "user_min_limit = int(input())\n",
        "user_max_limit = int(input())\n",
        "matrix = [ [ random.randint(user_min_limit, user_max_limit) for j in range(user_n)] for i in range(user_m) ]\n",
        "for i in range(int(user_m)):\n",
        "  print(matrix[i])"
      ],
      "id": "alert-charm"
    },
    {
      "cell_type": "markdown",
      "metadata": {
        "id": "catholic-roots"
      },
      "source": [
        "### Задание №3\n",
        "Реализовать методы сортировки строк числовой матрицы в соответствии с\n",
        "заданием. Оценить время работы каждого алгоритма сортировки и сравнить его со\n",
        "временем стандартной функции сортировки. Испытания проводить на сгенерированных\n",
        "матрицах."
      ],
      "id": "catholic-roots"
    },
    {
      "cell_type": "code",
      "execution_count": null,
      "metadata": {
        "id": "opposed-creature"
      },
      "outputs": [],
      "source": [
        "import copy"
      ],
      "id": "opposed-creature"
    },
    {
      "cell_type": "code",
      "execution_count": null,
      "metadata": {
        "id": "cleared-anniversary"
      },
      "outputs": [],
      "source": [
        "# Сортировка выбором.\n",
        "# Берётся срез массива, в котором минимальный элемент переносят в самый левый угол,\n",
        "# после чего срез уменьшается и цикл повторяется.\n",
        "def selectionSort(a):\n",
        "  for i in range(len(a) - 1):\n",
        "      min = i\n",
        "      for j in range(i + 1, len(a)):\n",
        "          if a[j] < a[min]:\n",
        "              min = j\n",
        "      a[i], a[min] = a[min], a[i]\n",
        "  print(a)\n",
        "\n",
        "start_time = time.time()\n",
        "#TODO\n",
        "print(\"Сортировка....\\\\\")\n",
        "for i in range(user_m):\n",
        "  m = copy.copy(matrix[i])\n",
        "  selectionSort(m)\n",
        "selTime = (time.time() - start_time)*1000\n",
        "print(\"--- {0} ms ---\".format(round((time.time() - start_time)*1000)))"
      ],
      "id": "cleared-anniversary"
    },
    {
      "cell_type": "code",
      "execution_count": null,
      "metadata": {
        "id": "roman-silly",
        "scrolled": true
      },
      "outputs": [],
      "source": [
        "# Сортировка вставкой.\n",
        "def insertSort(matrix):\n",
        "  for i in range(len(matrix)):\n",
        "    j = i\n",
        "    while j > 0 and matrix[j-1]>matrix[j]:\n",
        "      matrix[j-1], matrix[j] = matrix[j], matrix[j-1]\n",
        "      j = j-1\n",
        "  print(matrix)\n",
        "\n",
        "start_time = time.time()\n",
        "#TODO\n",
        "\n",
        "\n",
        "print(\"Сортировка....\\\\\")\n",
        "for i in range(user_m):\n",
        "  m = copy.copy(matrix[i])\n",
        "  insertSort(m)\n",
        "insertTime = (time.time() - start_time)*1000\n",
        "print(\"--- {0} ms ---\".format(round((time.time() - start_time)*1000)))"
      ],
      "id": "roman-silly"
    },
    {
      "cell_type": "code",
      "execution_count": null,
      "metadata": {
        "id": "vital-implementation"
      },
      "outputs": [],
      "source": [
        "# Сортировка обменом. || Сортировка пузырьком.\n",
        "def bubbleSort(matrix):\n",
        "  for i in range(len(matrix)-1):\n",
        "      for j in range(len(matrix)-i-1):\n",
        "          if matrix[j] > matrix[j+1]:\n",
        "              matrix[j], matrix[j+1] = matrix[j+1], matrix[j]\n",
        "  print(matrix)\n",
        "start_time = time.time()\n",
        "#TODO\n",
        "\n",
        "print(\"Сортировка....\\\\\")\n",
        "for i in range(user_m):\n",
        "  m = copy.copy(matrix[i])\n",
        "  bubbleSort(m)\n",
        "bubbleTime = (time.time() - start_time)*1000\n",
        "print(\"--- {0} ms ---\".format(round((time.time() - start_time)*1000)))"
      ],
      "id": "vital-implementation"
    },
    {
      "cell_type": "code",
      "execution_count": null,
      "metadata": {
        "id": "veterinary-glory"
      },
      "outputs": [],
      "source": [
        "# Сортировка Шелла.\n",
        "start_time = time.time()\n",
        "def shellSort(matrix):\n",
        "  gap = len(matrix) // 2\n",
        "  while gap > 0:\n",
        "    for i in range(gap, len(matrix)):\n",
        "      cur = matrix[i]\n",
        "      pos = i\n",
        "      while pos >= gap and matrix[pos - gap] > cur:\n",
        "        matrix[pos] = matrix[pos - gap]\n",
        "        pos -= gap\n",
        "        matrix[pos] = cur\n",
        "    gap //= 2\n",
        "  print(matrix)\n",
        "\n",
        "print(\"Сортировка....\\\\\")\n",
        "for i in range(user_m):\n",
        "  m = copy.copy(matrix[i])\n",
        "  shellSort(m)\n",
        "shellTime = (time.time() - start_time)*1000\n",
        "print(\"--- {0} ms ---\".format(round((time.time() - start_time)*1000)))"
      ],
      "id": "veterinary-glory"
    },
    {
      "cell_type": "code",
      "execution_count": null,
      "metadata": {
        "id": "correct-chaos"
      },
      "outputs": [],
      "source": [
        "# Быстрая сортировка.\n",
        "def quickSort(s):\n",
        "  if len(s) <= 1:\n",
        "    return s\n",
        "  elem = s[0]\n",
        "  right = [i for i in s if i < elem ]\n",
        "  center = [i for i in s if i == elem ]\n",
        "  left = [i for i in s if i > elem ]\n",
        "  return quickSort(right) + center + quickSort(left)\n",
        "\n",
        "start_time = time.time()\n",
        "\n",
        "print(\"Сортировка....\\\\\")\n",
        "for i in range(user_m):\n",
        "  m = copy.copy(matrix[i])\n",
        "  print(quickSort(m))\n",
        "quickTime = (time.time() - start_time)*1000\n",
        "print(\"--- {0} ms ---\".format(round((time.time() - start_time)*1000)))\n",
        "    "
      ],
      "id": "correct-chaos"
    },
    {
      "cell_type": "code",
      "execution_count": null,
      "metadata": {
        "id": "french-czech"
      },
      "outputs": [],
      "source": [
        "# Турнирная сортировка.\n",
        "def heapify(a, n, i):\n",
        "  max = i\n",
        "  left = 2*i+1\n",
        "  right = 2*i+2\n",
        "  if left < n and a[i] < a[left]:\n",
        "    max = left\n",
        "  if right < n and a[max] < a[right]:\n",
        "    max = right\n",
        "  \n",
        "  if max != i:\n",
        "    a[i], a[max] = a[max], a[i]\n",
        "    heapify(a, n, max)\n",
        "\n",
        "def heapSort(matrix):\n",
        "  for i in range(len(matrix)//2, -1, -1):\n",
        "    heapify(matrix, len(matrix), i)\n",
        "  for i in range(len(matrix)-1, 0, -1):\n",
        "    matrix[i], matrix[0] = matrix[0], matrix[i]\n",
        "    heapify(matrix, i, 0)\n",
        "  print(matrix)\n",
        "start_time = time.time()\n",
        "#TODO\n",
        "print(\"Сортировка....\\\\\")\n",
        "for i in range(user_m):\n",
        "  m = copy.copy(matrix[i])\n",
        "  heapSort(m)\n",
        "heapTime = (time.time() - start_time)*1000\n",
        "print(\"--- {0} ms ---\".format(round((time.time() - start_time)*1000)))"
      ],
      "id": "french-czech"
    },
    {
      "cell_type": "code",
      "execution_count": null,
      "metadata": {
        "id": "SwUcHvF_Bqlp"
      },
      "outputs": [],
      "source": [
        "print(\"Сортировка выбором: \" + str(selTime))\n",
        "print(\"Сортировка вставкой: \" + str(insertTime))\n",
        "print(\"Сортировка пузырьком: \" + str(bubbleTime))\n",
        "print(\"Сортировка Шелла: \" + str(shellTime))\n",
        "print(\"Сортировка быстрая: \" + str(quickTime))\n",
        "print(\"Сортировка турнирная: \" + str(heapTime))"
      ],
      "id": "SwUcHvF_Bqlp"
    },
    {
      "cell_type": "markdown",
      "metadata": {
        "id": "rental-jerusalem"
      },
      "source": [
        "### Вывод\n"
      ],
      "id": "rental-jerusalem"
    },
    {
      "cell_type": "markdown",
      "metadata": {
        "id": "9d108a0a"
      },
      "source": [],
      "id": "9d108a0a"
    }
  ],
  "metadata": {
    "colab": {
      "provenance": []
    },
    "kernelspec": {
      "display_name": "Python 3 (ipykernel)",
      "language": "python",
      "name": "python3"
    },
    "language_info": {
      "codemirror_mode": {
        "name": "ipython",
        "version": 3
      },
      "file_extension": ".py",
      "mimetype": "text/x-python",
      "name": "python",
      "nbconvert_exporter": "python",
      "pygments_lexer": "ipython3",
      "version": "3.10.2"
    }
  },
  "nbformat": 4,
  "nbformat_minor": 5
}